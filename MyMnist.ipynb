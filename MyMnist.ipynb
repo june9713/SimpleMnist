{
 "cells": [
  {
   "cell_type": "code",
   "execution_count": null,
   "metadata": {},
   "outputs": [],
   "source": [
    "# -*- coding: utf-8 -*-\n",
    "import os\n",
    "import makeDataset\n",
    "import numpy as np\n",
    "import matplotlib.pyplot\n",
    "import tensorflow as tf\n",
    "from tensorflow.examples.tutorials.mnist import input_data\n",
    "%matplotlib inline\n",
    "\n",
    "\n",
    "mnist = input_data.read_data_sets(\"./MNIST_data/\", one_hot=True)\n",
    "\n",
    "#mnist.train.images 는 수정이 안되므로 수정가능한 데이터 셋을 만들어서 치환 해 준다.\n",
    "files = makeDataset.loadData()\n",
    "emptyMnist = makeDataset.dataSet(files)\n",
    "\n",
    "\n",
    "\n",
    "# 변수들을 설정한다.\n",
    "x = tf.placeholder(tf.float32, [None, 784])\n",
    "W1 = tf.Variable(tf.random_normal([784, 10] , stddev=0.001))\n",
    "b1 = tf.Variable(tf.random_normal([10]))\n",
    "y1 = tf.matmul(x, W1)\n",
    "y1 = tf.nn.relu(y1)\n",
    "y1 = tf.nn.softmax(y1)\n",
    "\n",
    "emptyMnist.test.images = mnist.train.images[:2]\n",
    "emptyMnist.test.labels = mnist.train.labels[:2]\n",
    "emptyMnist.train.images = mnist.train.images[:2]\n",
    "emptyMnist.train.labels = mnist.train.labels[:2]\n",
    "\n",
    "mnist = emptyMnist\n",
    "mnist.num_examples = len(mnist.train.labels)\n"
   ]
  },
  {
   "cell_type": "code",
   "execution_count": null,
   "metadata": {
    "collapsed": true
   },
   "outputs": [],
   "source": [
    "\n",
    "# cross-entropy 모델을 설정한다.\n",
    "y_ = tf.placeholder(tf.float32, [None, 10])\n",
    "cross_entropy = tf.reduce_mean(-tf.reduce_sum(y_ * tf.log(y1), reduction_indices=[1]))\n",
    "train_step = tf.train.GradientDescentOptimizer(0.001).minimize(cross_entropy)\n"
   ]
  },
  {
   "cell_type": "code",
   "execution_count": null,
   "metadata": {
    "collapsed": true
   },
   "outputs": [],
   "source": [
    "# 경사하강법으로 모델을 학습한다.\n",
    "init = tf.global_variables_initializer()\n",
    "sess = tf.Session()\n",
    "sess.run(init)\n"
   ]
  },
  {
   "cell_type": "code",
   "execution_count": null,
   "metadata": {
    "collapsed": true
   },
   "outputs": [],
   "source": [
    "def testMnist(y1 , y_ , images ,labels  ):\n",
    "    # 학습된 모델이 얼마나 정확한지를 출력한다.\n",
    "    correct_prediction = tf.equal(tf.argmax(y1,1), tf.argmax(y_,1))\n",
    "    accuracy = tf.reduce_mean(tf.cast(correct_prediction, tf.float32))\n",
    "    print(sess.run(accuracy, feed_dict={x: images, y_: labels}))"
   ]
  },
  {
   "cell_type": "code",
   "execution_count": null,
   "metadata": {},
   "outputs": [],
   "source": [
    "for i in range(1000000):\n",
    "    if i%10000 == 0:\n",
    "        testMnist(y1 , y_ , mnist.test.images ,mnist.test.labels  )\n",
    "    batch_xs, batch_ys = mnist.next_batch(100)\n",
    "    sess.run(train_step, feed_dict={x: mnist.train.images, y_: mnist.train.labels})\n",
    "\n"
   ]
  }
 ],
 "metadata": {
  "kernelspec": {
   "display_name": "Python 3",
   "language": "python",
   "name": "python3"
  },
  "language_info": {
   "codemirror_mode": {
    "name": "ipython",
    "version": 3
   },
   "file_extension": ".py",
   "mimetype": "text/x-python",
   "name": "python",
   "nbconvert_exporter": "python",
   "pygments_lexer": "ipython3",
   "version": "3.5.3"
  }
 },
 "nbformat": 4,
 "nbformat_minor": 2
}
